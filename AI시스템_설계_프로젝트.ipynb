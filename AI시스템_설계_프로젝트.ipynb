{
  "nbformat": 4,
  "nbformat_minor": 0,
  "metadata": {
    "colab": {
      "name": "AI시스템 설계 프로젝트.ipynb",
      "provenance": [],
      "collapsed_sections": [],
      "authorship_tag": "ABX9TyOc5WXplODGRRmF5sGV03bV",
      "include_colab_link": true
    },
    "kernelspec": {
      "name": "python3",
      "display_name": "Python 3"
    },
    "language_info": {
      "name": "python"
    }
  },
  "cells": [
    {
      "cell_type": "markdown",
      "metadata": {
        "id": "view-in-github",
        "colab_type": "text"
      },
      "source": [
        "<a href=\"https://colab.research.google.com/github/spjy1234/AI-Syestem-projrct/blob/main/AI%EC%8B%9C%EC%8A%A4%ED%85%9C_%EC%84%A4%EA%B3%84_%ED%94%84%EB%A1%9C%EC%A0%9D%ED%8A%B8.ipynb\" target=\"_parent\"><img src=\"https://colab.research.google.com/assets/colab-badge.svg\" alt=\"Open In Colab\"/></a>"
      ]
    },
    {
      "cell_type": "code",
      "metadata": {
        "id": "WOVhbzQ_4nhg",
        "colab": {
          "base_uri": "https://localhost:8080/"
        },
        "outputId": "9bca0a9b-2270-4d29-e0c2-282c3cb1818a"
      },
      "source": [
        "import numpy as np\n",
        "import pandas as pd\n",
        "from sklearn import datasets\n",
        "from sklearn import model_selection\n",
        "from sklearn.linear_model import LinearRegression\n",
        "from sklearn import metrics\n",
        "\n",
        "from sklearn import datasets\n",
        "dataset = datasets.fetch_california_housing()\n",
        "x_data = dataset.data\n",
        "y_data = dataset.target\n",
        "print(x_data.shape) #(20640, 8)\n",
        "print(y_data.shape) #(20640,)\n",
        "\n",
        "x_train, x_test, y_train, y_test = model_selection.train_test_split(x_data, y_data, test_size=0.3)\n",
        "\n",
        "estimator = LinearRegression()\n",
        "\n",
        "estimator.fit(x_train, y_train)\n",
        "\n",
        "y_predict = estimator.predict(x_train) \n",
        "score = metrics.r2_score(y_train, y_predict)\n",
        "print(score) #1.0\n",
        "\n",
        "y_predict = estimator.predict(x_test) \n",
        "score = metrics.r2_score(y_test, y_predict)\n",
        "print(score) #1.0"
      ],
      "execution_count": 24,
      "outputs": [
        {
          "output_type": "stream",
          "text": [
            "(20640, 8)\n",
            "(20640,)\n",
            "0.6059470947509877\n",
            "0.6005334020883693\n"
          ],
          "name": "stdout"
        }
      ]
    },
    {
      "cell_type": "code",
      "metadata": {
        "colab": {
          "base_uri": "https://localhost:8080/"
        },
        "id": "RSizSTQcO1rd",
        "outputId": "171fe6a8-7b62-416e-d281-800f55fdfb6e"
      },
      "source": [
        "import numpy as np\n",
        "import pandas as pd\n",
        "from sklearn import datasets\n",
        "#\n",
        "from sklearn import model_selection\n",
        "from sklearn.svm import SVR\n",
        "from sklearn import metrics\n",
        "\n",
        "from sklearn import datasets\n",
        "dataset = datasets.fetch_california_housing()\n",
        "x_data = dataset.data\n",
        "y_data = dataset.target\n",
        "#print(x_data.shape) #(20640, 8)\n",
        "#print(y_data.shape) #(20640,)\n",
        "\n",
        "####################\n",
        "\n",
        "from sklearn.preprocessing import MinMaxScaler\n",
        "scaler = MinMaxScaler()\n",
        "scaler.fit(x_data)\n",
        "x_data = scaler.transform(x_data)\n",
        "\n",
        "x_train, x_test, y_train, y_test = model_selection.train_test_split(x_data, y_data, test_size=0.3)\n",
        "\n",
        "estimator = SVR(kernel='rbf', C=1.0, gamma='auto')\n",
        "\n",
        "estimator.fit(x_train, y_train)\n",
        "\n",
        "y_predict = estimator.predict(x_train) \n",
        "score = metrics.r2_score(y_train, y_predict)\n",
        "print(score) #1.0\n",
        "\n",
        "y_predict = estimator.predict(x_test) \n",
        "score = metrics.r2_score(y_test, y_predict)\n",
        "print(score) #1.0\n"
      ],
      "execution_count": 25,
      "outputs": [
        {
          "output_type": "stream",
          "text": [
            "0.5813394872772109\n",
            "0.6046778738973209\n"
          ],
          "name": "stdout"
        }
      ]
    }
  ]
}