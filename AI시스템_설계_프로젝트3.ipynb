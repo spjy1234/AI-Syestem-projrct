{
  "nbformat": 4,
  "nbformat_minor": 0,
  "metadata": {
    "colab": {
      "name": "AI시스템 설계 프로젝트3.ipynb",
      "provenance": [],
      "collapsed_sections": [],
      "mount_file_id": "13NoCl1CEUBG57LCcyKFh-JAFxJojENc7",
      "authorship_tag": "ABX9TyOVJYevJ8ulpZ5bwOOQY1NM",
      "include_colab_link": true
    },
    "kernelspec": {
      "name": "python3",
      "display_name": "Python 3"
    },
    "language_info": {
      "name": "python"
    },
    "accelerator": "TPU"
  },
  "cells": [
    {
      "cell_type": "markdown",
      "metadata": {
        "id": "view-in-github",
        "colab_type": "text"
      },
      "source": [
        "<a href=\"https://colab.research.google.com/github/spjy1234/AI-Syestem-projrct/blob/main/AI%EC%8B%9C%EC%8A%A4%ED%85%9C_%EC%84%A4%EA%B3%84_%ED%94%84%EB%A1%9C%EC%A0%9D%ED%8A%B83.ipynb\" target=\"_parent\"><img src=\"https://colab.research.google.com/assets/colab-badge.svg\" alt=\"Open In Colab\"/></a>"
      ]
    },
    {
      "cell_type": "code",
      "metadata": {
        "colab": {
          "base_uri": "https://localhost:8080/"
        },
        "id": "EQkcpLB0gI6E",
        "outputId": "c77944a0-3902-426a-e6be-b489307e77cd"
      },
      "source": [
        "#다중 선형회귀\n",
        "import pandas as pd\n",
        "import numpy as np\n",
        "import os\n",
        "import tarfile\n",
        "from six.moves import urllib\n",
        "import matplotlib.pyplot as plt\n",
        "\n",
        "np.random.seed(42)\n",
        "\n",
        "%matplotlib inline\n",
        "\n",
        "DOWNLOAD_ROOT = \"https://raw.githubusercontent.com/ageron/handson-ml/master/\"\n",
        "HOUSING_PATH = os.path.join(\"input\", \"housing\")\n",
        "HOUSING_URL = DOWNLOAD_ROOT + \"datasets/housing/housing.tgz\"\n",
        "\n",
        "def fetch_housing_data(housing_url=HOUSING_URL, housing_path=HOUSING_PATH):\n",
        "    if not os.path.isdir(housing_path):\n",
        "        os.makedirs(housing_path)\n",
        "    tgz_path = os.path.join(housing_path, \"housing.tgz\")\n",
        "    urllib.request.urlretrieve(housing_url, tgz_path)\n",
        "    housing_tgz = tarfile.open(tgz_path)\n",
        "    housing_tgz.extractall(path=housing_path)\n",
        "    housing_tgz.close()\n",
        "    \n",
        "fetch_housing_data()\n",
        "\n",
        "housing = pd.read_csv('./input/housing/housing.csv')\n",
        "housing.tail()\n",
        "\n",
        "import seaborn as sns\n",
        "\n",
        "corr = housing.corr()\n",
        "\n",
        "housing[\"rooms_per_household\"] = housing[\"total_rooms\"]/housing[\"households\"]\n",
        "housing[\"bedrooms_per_room\"] = housing[\"total_bedrooms\"]/housing[\"total_rooms\"]\n",
        "housing[\"population_per_household\"]=housing[\"population\"]/housing[\"households\"]\n",
        "\n",
        "df = pd.get_dummies(data=housing, columns=['ocean_proximity'])\n",
        "\n",
        "from sklearn.impute import SimpleImputer\n",
        "\n",
        "imputer = SimpleImputer(strategy=\"median\")\n",
        "\n",
        "imputer.fit(df)\n",
        "X = imputer.transform(df)\n",
        "housing_tr = pd.DataFrame(X, columns=df.columns)\n",
        "housing_tr.tail()\n",
        "\n",
        "housing_labels = housing_tr[\"median_house_value\"].copy() \n",
        "housing_tr.drop(\"median_house_value\", axis=1, inplace = True)\n",
        "\n",
        "from sklearn.preprocessing import StandardScaler\n",
        "\n",
        "scaler = StandardScaler()\n",
        "# scaler.fit(housing_tr)\n",
        "scaled_df = scaler.fit_transform(housing_tr)\n",
        "scaled_df.shape\n",
        "\n",
        "from sklearn.model_selection import train_test_split\n",
        "from sklearn.neural_network import MLPClassifier\n",
        "\n",
        "x_train, x_test, y_train, y_test = train_test_split(scaled_df, housing_labels, test_size=0.4, random_state=40)\n",
        "\n",
        "\n",
        "from sklearn.linear_model import LinearRegression\n",
        "mlr = LinearRegression()\n",
        "mlr.fit(x_train, y_train)\n",
        "acc=mlr.score(x_train, y_train)\n",
        "print('Accuracy:',acc*100,'%')"
      ],
      "execution_count": 26,
      "outputs": [
        {
          "output_type": "stream",
          "text": [
            "Accuracy: 65.7834591339181 %\n"
          ],
          "name": "stdout"
        }
      ]
    },
    {
      "cell_type": "code",
      "metadata": {
        "colab": {
          "base_uri": "https://localhost:8080/"
        },
        "id": "rFf2bk-F5lyv",
        "outputId": "dc0f6d4b-67d1-4a63-9c85-9dc0f2864130"
      },
      "source": [
        "#SVM\n",
        "import pandas as pd\n",
        "import numpy as np\n",
        "import os\n",
        "import tarfile\n",
        "from six.moves import urllib\n",
        "import matplotlib.pyplot as plt\n",
        "\n",
        "np.random.seed(42)\n",
        "\n",
        "%matplotlib inline\n",
        "\n",
        "DOWNLOAD_ROOT = \"https://raw.githubusercontent.com/ageron/handson-ml/master/\"\n",
        "HOUSING_PATH = os.path.join(\"input\", \"housing\")\n",
        "HOUSING_URL = DOWNLOAD_ROOT + \"datasets/housing/housing.tgz\"\n",
        "\n",
        "def fetch_housing_data(housing_url=HOUSING_URL, housing_path=HOUSING_PATH):\n",
        "    if not os.path.isdir(housing_path):\n",
        "        os.makedirs(housing_path)\n",
        "    tgz_path = os.path.join(housing_path, \"housing.tgz\")\n",
        "    urllib.request.urlretrieve(housing_url, tgz_path)\n",
        "    housing_tgz = tarfile.open(tgz_path)\n",
        "    housing_tgz.extractall(path=housing_path)\n",
        "    housing_tgz.close()\n",
        "    \n",
        "fetch_housing_data()\n",
        "\n",
        "housing = pd.read_csv('./input/housing/housing.csv')\n",
        "housing.tail()\n",
        "\n",
        "import seaborn as sns\n",
        "\n",
        "corr = housing.corr()\n",
        "\n",
        "housing[\"rooms_per_household\"] = housing[\"total_rooms\"]/housing[\"households\"]\n",
        "housing[\"bedrooms_per_room\"] = housing[\"total_bedrooms\"]/housing[\"total_rooms\"]\n",
        "housing[\"population_per_household\"]=housing[\"population\"]/housing[\"households\"]\n",
        "\n",
        "df = pd.get_dummies(data=housing, columns=['ocean_proximity'])\n",
        "\n",
        "from sklearn.impute import SimpleImputer\n",
        "\n",
        "imputer = SimpleImputer(strategy=\"median\")\n",
        "\n",
        "imputer.fit(df)\n",
        "X = imputer.transform(df)\n",
        "housing_tr = pd.DataFrame(X, columns=df.columns)\n",
        "housing_tr.tail()\n",
        "\n",
        "housing_labels = housing_tr[\"median_house_value\"].copy() \n",
        "housing_tr.drop(\"median_house_value\", axis=1, inplace = True)\n",
        "\n",
        "from sklearn.preprocessing import StandardScaler\n",
        "\n",
        "scaler = StandardScaler()\n",
        "# scaler.fit(housing_tr)\n",
        "scaled_df = scaler.fit_transform(housing_tr)\n",
        "scaled_df.shape\n",
        "\n",
        "from sklearn.model_selection import train_test_split\n",
        "from sklearn.neural_network import MLPClassifier\n",
        "\n",
        "x_train, x_test, y_train, y_test = train_test_split(scaled_df, housing_labels, test_size=0.3)\n",
        "\n",
        "from sklearn.svm import SVR\n",
        "\n",
        "s = SVR(kernel=\"sigmoid\",gamma=0.1)\n",
        "s.fit(x_train, y_train)\n",
        "\n",
        "acc=s.score(x_train, y_train)\n",
        "print('Accuracy:',acc*100,'%')"
      ],
      "execution_count": 1,
      "outputs": [
        {
          "output_type": "stream",
          "text": [
            "Accuracy: -4.108134144260012 %\n"
          ],
          "name": "stdout"
        }
      ]
    }
  ]
}